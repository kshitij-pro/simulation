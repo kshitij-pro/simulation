{
  "nbformat": 4,
  "nbformat_minor": 0,
  "metadata": {
    "colab": {
      "name": "203190021_and_203190022_IE630_TEAM_HOMEWORK_part_a_and_b.ipynb",
      "provenance": [],
      "collapsed_sections": []
    },
    "kernelspec": {
      "name": "python3",
      "display_name": "Python 3"
    },
    "language_info": {
      "name": "python"
    }
  },
  "cells": [
    {
      "cell_type": "code",
      "metadata": {
        "id": "5oWKlICj92Ix"
      },
      "source": [
        "import numpy as np\n",
        "import random as r\n",
        "from matplotlib import pyplot as plt\n",
        "import pandas as pd"
      ],
      "execution_count": null,
      "outputs": []
    },
    {
      "cell_type": "code",
      "metadata": {
        "id": "NyhGueJu93PM"
      },
      "source": [
        "def get_Q(I,M,L,lead_time):\n",
        "  #I is current inventory\n",
        "  if I < L and 0<= lead_time <= 1:\n",
        "    QU = M-I\n",
        "  elif lead_time ==20 and I < L:\n",
        "    QU = M-I\n",
        "  else:\n",
        "    QU = 0\n",
        "  return QU "
      ],
      "execution_count": null,
      "outputs": []
    },
    {
      "cell_type": "code",
      "metadata": {
        "id": "m9xLwUun94uA"
      },
      "source": [
        "def order_cost(Q):\n",
        "  if Q > 0:\n",
        "   return 60 + 5*Q\n",
        "  else:\n",
        "    return 0"
      ],
      "execution_count": null,
      "outputs": []
    },
    {
      "cell_type": "code",
      "metadata": {
        "id": "aCpx95bX9764"
      },
      "source": [
        "def back_cost(I):\n",
        "  if I < 0:\n",
        "    return -I*4\n",
        "  else:\n",
        "    return 0 "
      ],
      "execution_count": null,
      "outputs": []
    },
    {
      "cell_type": "code",
      "metadata": {
        "id": "XHMXSkKf99oh"
      },
      "source": [
        "def inv_cost(I):\n",
        "  if I > 0:\n",
        "    return I\n",
        "  else:\n",
        "    return 0"
      ],
      "execution_count": null,
      "outputs": []
    },
    {
      "cell_type": "code",
      "metadata": {
        "id": "tIBdTfN59_5Q"
      },
      "source": [
        "#funtion to calculate revenue\n",
        "def selling(inv,monthly_demand,order_reciept,start_inv):\n",
        "  b = start_inv\n",
        "  m = inv\n",
        "  revenue = []\n",
        "  for i in range(1):\n",
        "    if order_reciept[i]+b[i] > 0:\n",
        "      sales = min(order_reciept[i]+b[i],monthly_demand[i])*10\n",
        "      revenue.append(sales)\n",
        "\n",
        "  for i in range(1,len(inv),1):\n",
        "    z = m[i-1] \n",
        "    if z > 0 :\n",
        "      sales = min(z,monthly_demand[i])*5\n",
        "      if monthly_demand[i] > z:\n",
        "        sales = sales+ 10*min(b[i]-z,monthly_demand[i]-z)\n",
        "    elif b[i] > 0:\n",
        "      if m[i-1] >= 0:\n",
        "        sales = min(b[i],monthly_demand[i])*10\n",
        "      else:\n",
        "        sales = min(order_reciept[i],monthly_demand[i]-m[i-1])*10\n",
        "    else:\n",
        "      sales = 0\n",
        "    revenue.append(sales)\n",
        "  return revenue"
      ],
      "execution_count": null,
      "outputs": []
    },
    {
      "cell_type": "code",
      "metadata": {
        "id": "xNlTIH3i-hX4"
      },
      "source": [
        "def simulation(no_of_replication = 1, length_of_each_run = 100 ):\n",
        "  L = length_of_each_run\n",
        "  n = no_of_replication\n",
        "  mean_profit = []\n",
        "  mean_monthly_cost = []\n",
        "  sl = [] # cycle service level\n",
        "  data = pd.DataFrame(data = None)\n",
        "  for i in range(n):\n",
        "    z = -1\n",
        "    order_reciept = int(L+2)*[0] # creating this for assigning order quantity recival to particular month because suppose if lead time is more than 1 month then adding order quantity in second month\n",
        "    I = 50 #initial inventory\n",
        "    monthly_cost = []\n",
        "    monthly_orders = []\n",
        "    monthly_demand = []\n",
        "    start_inv = []\n",
        "    t = 0 #initial month\n",
        "    L_time = 20\n",
        "    inv = []\n",
        "    lead = []\n",
        "    while t < L: # run for L month\n",
        "      I = I + order_reciept[t] # assigned order quantity if lead time is more than 1 month \n",
        "      start_inv.append(I)\n",
        "      d_t = 0 # initialize demand time in given month\n",
        "      dm = [] \n",
        "      while d_t < 1: # writing code to evaluate total demand occured in a given month\n",
        "        d_t = d_t + r.expovariate(15)\n",
        "        pr = r.uniform(0,1)\n",
        "        if pr >= 0 and pr<= 0.5:\n",
        "          D = 1\n",
        "        elif 0.5 < pr <= 0.75:\n",
        "          D = 2\n",
        "        elif 0.75 < pr <= 7/8:  \n",
        "          D = 3\n",
        "        else:\n",
        "          D = 4\n",
        "        dm.append(D)\n",
        "      demand = sum(dm) # this will give total demand of that month\n",
        "      monthly_demand.append(demand)\n",
        "\n",
        "      I = I -demand\n",
        "\n",
        "      if t >= 1:\n",
        "        z = inv[t-1]   - monthly_demand[t]\n",
        "      if z > 0:\n",
        "        I = I - z\n",
        "      Q = get_Q(I,50,30,L_time)  ######\n",
        "      monthly_cost.append(order_cost(Q)+back_cost(I)+ inv_cost(I))\n",
        "      inv.append(I)\n",
        "      monthly_orders.append(Q)\n",
        "      if Q > 0:\n",
        "        L_time = r.uniform(0.25,1.25)\n",
        "      else:\n",
        "        L_time = 0\n",
        "      lead.append(L_time)\n",
        "      if 0.25 <= L_time <= 1 and Q > 0: #if lead time is less than 1 month that means we are getting our ordered quantity in next month\n",
        "        order_reciept[t+1] = Q\n",
        "      elif L_time > 1 and Q > 0: # therefore in next month inventory becomes on hand inventory plus recieved quanity\n",
        "        order_reciept[t+2] = Q\n",
        "        order_reciept[t+1] = 0\n",
        "      t = t + 1 \n",
        "    #print('inv',inv)\n",
        "    #print('demand',monthly_demand)\n",
        "    #print('order_reciept',order_reciept)\n",
        "    #print('leadtime',lead) \n",
        "    #print('monthlycost',monthly_cost)\n",
        "    seling = selling(inv,monthly_demand,order_reciept,start_inv)\n",
        "    mean_profit.append(-np.mean(monthly_cost)+ np.mean(seling)) \n",
        "    mean_monthly_cost.append(np.mean(monthly_cost))\n",
        "    #data['START INVENTORY'] = start_inv[:10]\n",
        "    data['MONTHLY DEMAND'] = monthly_demand[:10]\n",
        "    data['ORDER RECEIPT'] = order_reciept[:10]\n",
        "    data['END INVENTORY'] = inv[:10]\n",
        "    data['MONTHLY ORDER'] = monthly_orders[:10]\n",
        "    data['MONTHLY COST'] = monthly_cost[:10]\n",
        "    data['MONTHLY SELLING'] = seling[:10]\n",
        "    modified_inv = [50,*inv]\n",
        "    #print('mod inv',modified_inv)\n",
        "    ser_level_list = []\n",
        "    sl_count = 0\n",
        "    for i in range(len(monthly_demand)):\n",
        "      ser_level_list.append(modified_inv[i] + order_reciept[i] - monthly_demand[i])\n",
        "    for service_level in ser_level_list:\n",
        "      if service_level >= 0:\n",
        "        sl_count += 1\n",
        "    sl.append(sl_count/len(monthly_demand))\n",
        "  return mean_profit,mean_monthly_cost,sl ,data"
      ],
      "execution_count": null,
      "outputs": []
    },
    {
      "cell_type": "markdown",
      "metadata": {
        "id": "_1rt2BSS93xk"
      },
      "source": [
        "$mean\\_monthly\\_cost$ is a list of length = no. of replications . Each element represent average monthly cost averaged over length of each run. Similarly for $mean\\_profit$.\n",
        "\n",
        "$sl$ is a list of length = no. of replications. Each element shows averaged cycle service level averaged over length of each run.\n",
        "\n",
        "$data$ gives a datafram containing first 10 month cost, inventory, order_receipt, monthly_order etc. for the last simulation run. It will be usefull for verifying the code."
      ]
    },
    {
      "cell_type": "markdown",
      "metadata": {
        "id": "6PJm7WamE7i_"
      },
      "source": [
        "Now lets run a example simulation with just one run."
      ]
    },
    {
      "cell_type": "code",
      "metadata": {
        "colab": {
          "base_uri": "https://localhost:8080/",
          "height": 363
        },
        "id": "_1QtkdqpE3G9",
        "outputId": "52927959-e494-4c07-a3cf-3cb9e1a13c55"
      },
      "source": [
        "#example run\n",
        "mmp, mmc ,sl_list ,data= simulation(1)\n",
        "data"
      ],
      "execution_count": null,
      "outputs": [
        {
          "output_type": "execute_result",
          "data": {
            "text/html": [
              "<div>\n",
              "<style scoped>\n",
              "    .dataframe tbody tr th:only-of-type {\n",
              "        vertical-align: middle;\n",
              "    }\n",
              "\n",
              "    .dataframe tbody tr th {\n",
              "        vertical-align: top;\n",
              "    }\n",
              "\n",
              "    .dataframe thead th {\n",
              "        text-align: right;\n",
              "    }\n",
              "</style>\n",
              "<table border=\"1\" class=\"dataframe\">\n",
              "  <thead>\n",
              "    <tr style=\"text-align: right;\">\n",
              "      <th></th>\n",
              "      <th>MONTHLY DEMAND</th>\n",
              "      <th>ORDER RECEIPT</th>\n",
              "      <th>END INVENTORY</th>\n",
              "      <th>MONTHLY ORDER</th>\n",
              "      <th>MONTHLY COST</th>\n",
              "      <th>MONTHLY SELLING</th>\n",
              "    </tr>\n",
              "  </thead>\n",
              "  <tbody>\n",
              "    <tr>\n",
              "      <th>0</th>\n",
              "      <td>38</td>\n",
              "      <td>0</td>\n",
              "      <td>12</td>\n",
              "      <td>38</td>\n",
              "      <td>262</td>\n",
              "      <td>380</td>\n",
              "    </tr>\n",
              "    <tr>\n",
              "      <th>1</th>\n",
              "      <td>38</td>\n",
              "      <td>0</td>\n",
              "      <td>-26</td>\n",
              "      <td>0</td>\n",
              "      <td>104</td>\n",
              "      <td>60</td>\n",
              "    </tr>\n",
              "    <tr>\n",
              "      <th>2</th>\n",
              "      <td>34</td>\n",
              "      <td>38</td>\n",
              "      <td>-22</td>\n",
              "      <td>72</td>\n",
              "      <td>508</td>\n",
              "      <td>380</td>\n",
              "    </tr>\n",
              "    <tr>\n",
              "      <th>3</th>\n",
              "      <td>26</td>\n",
              "      <td>72</td>\n",
              "      <td>24</td>\n",
              "      <td>26</td>\n",
              "      <td>214</td>\n",
              "      <td>480</td>\n",
              "    </tr>\n",
              "    <tr>\n",
              "      <th>4</th>\n",
              "      <td>34</td>\n",
              "      <td>26</td>\n",
              "      <td>16</td>\n",
              "      <td>34</td>\n",
              "      <td>246</td>\n",
              "      <td>220</td>\n",
              "    </tr>\n",
              "    <tr>\n",
              "      <th>5</th>\n",
              "      <td>37</td>\n",
              "      <td>34</td>\n",
              "      <td>13</td>\n",
              "      <td>37</td>\n",
              "      <td>258</td>\n",
              "      <td>290</td>\n",
              "    </tr>\n",
              "    <tr>\n",
              "      <th>6</th>\n",
              "      <td>34</td>\n",
              "      <td>37</td>\n",
              "      <td>16</td>\n",
              "      <td>34</td>\n",
              "      <td>246</td>\n",
              "      <td>275</td>\n",
              "    </tr>\n",
              "    <tr>\n",
              "      <th>7</th>\n",
              "      <td>24</td>\n",
              "      <td>34</td>\n",
              "      <td>26</td>\n",
              "      <td>24</td>\n",
              "      <td>206</td>\n",
              "      <td>160</td>\n",
              "    </tr>\n",
              "    <tr>\n",
              "      <th>8</th>\n",
              "      <td>33</td>\n",
              "      <td>24</td>\n",
              "      <td>17</td>\n",
              "      <td>33</td>\n",
              "      <td>242</td>\n",
              "      <td>200</td>\n",
              "    </tr>\n",
              "    <tr>\n",
              "      <th>9</th>\n",
              "      <td>38</td>\n",
              "      <td>0</td>\n",
              "      <td>-21</td>\n",
              "      <td>0</td>\n",
              "      <td>84</td>\n",
              "      <td>85</td>\n",
              "    </tr>\n",
              "  </tbody>\n",
              "</table>\n",
              "</div>"
            ],
            "text/plain": [
              "   MONTHLY DEMAND  ORDER RECEIPT  ...  MONTHLY COST  MONTHLY SELLING\n",
              "0              38              0  ...           262              380\n",
              "1              38              0  ...           104               60\n",
              "2              34             38  ...           508              380\n",
              "3              26             72  ...           214              480\n",
              "4              34             26  ...           246              220\n",
              "5              37             34  ...           258              290\n",
              "6              34             37  ...           246              275\n",
              "7              24             34  ...           206              160\n",
              "8              33             24  ...           242              200\n",
              "9              38              0  ...            84               85\n",
              "\n",
              "[10 rows x 6 columns]"
            ]
          },
          "metadata": {
            "tags": []
          },
          "execution_count": 319
        }
      ]
    },
    {
      "cell_type": "markdown",
      "metadata": {
        "id": "k9qbxwIlCdZN"
      },
      "source": [
        "##part a"
      ]
    },
    {
      "cell_type": "markdown",
      "metadata": {
        "id": "XOW_lMdF_RY8"
      },
      "source": [
        "#Now we run simulation for 10 replication each of length 100 months. **NO WARM UP PERIOD SPECIFIED FOR THIS PART OF THE QUESTION"
      ]
    },
    {
      "cell_type": "code",
      "metadata": {
        "id": "uh-Txu-9_0CP"
      },
      "source": [
        "mean_profit, mean_cost,csl_list ,data = simulation(no_of_replication = 10, length_of_each_run = 100)"
      ],
      "execution_count": null,
      "outputs": []
    },
    {
      "cell_type": "code",
      "metadata": {
        "colab": {
          "base_uri": "https://localhost:8080/"
        },
        "id": "77keSPPw_q9E",
        "outputId": "1b208716-87cd-486d-e4fc-6899a5487472"
      },
      "source": [
        "print('mean profit for 10 run', mean_profit)"
      ],
      "execution_count": null,
      "outputs": [
        {
          "output_type": "stream",
          "text": [
            "mean profit for 10 run [14.469999999999999, 13.360000000000014, 19.930000000000007, 16.129999999999995, 3.6399999999999864, 2.1999999999999886, 19.70999999999998, 23.94999999999999, 6.4199999999999875, 7.1200000000000045]\n"
          ],
          "name": "stdout"
        }
      ]
    },
    {
      "cell_type": "code",
      "metadata": {
        "colab": {
          "base_uri": "https://localhost:8080/"
        },
        "id": "iTiZTdJrR-WC",
        "outputId": "b9927054-df60-4b3b-efc3-71ffb94be798"
      },
      "source": [
        "print(np.mean(mean_profit))"
      ],
      "execution_count": null,
      "outputs": [
        {
          "output_type": "stream",
          "text": [
            "12.692999999999994\n"
          ],
          "name": "stdout"
        }
      ]
    },
    {
      "cell_type": "code",
      "metadata": {
        "colab": {
          "base_uri": "https://localhost:8080/"
        },
        "id": "HjkjCjlOAASz",
        "outputId": "b684bf0e-ae9e-4034-a8d4-eed7b641990c"
      },
      "source": [
        "print('mean monthly for 10 run', mean_cost)"
      ],
      "execution_count": null,
      "outputs": [
        {
          "output_type": "stream",
          "text": [
            "mean monthly for 10 run [233.48, 231.89, 242.62, 241.12, 226.61, 219.05, 251.44, 237.0, 234.03, 235.38]\n"
          ],
          "name": "stdout"
        }
      ]
    },
    {
      "cell_type": "code",
      "metadata": {
        "colab": {
          "base_uri": "https://localhost:8080/"
        },
        "id": "RSb8ApJhSG_g",
        "outputId": "475ca1c1-7ffa-404a-c555-543efd84d98c"
      },
      "source": [
        "print(np.mean(mean_cost))"
      ],
      "execution_count": null,
      "outputs": [
        {
          "output_type": "stream",
          "text": [
            "235.26200000000003\n"
          ],
          "name": "stdout"
        }
      ]
    },
    {
      "cell_type": "code",
      "metadata": {
        "colab": {
          "base_uri": "https://localhost:8080/"
        },
        "id": "RqgX-HiUJG6I",
        "outputId": "c3fde670-b17d-4fa6-ec03-4730affb66fd"
      },
      "source": [
        "print('cycle service level for 10 run', csl_list)"
      ],
      "execution_count": null,
      "outputs": [
        {
          "output_type": "stream",
          "text": [
            "cycle service level for 10 run [0.65, 0.7, 0.52, 0.62, 0.67, 0.77, 0.51, 0.59, 0.67, 0.7]\n"
          ],
          "name": "stdout"
        }
      ]
    },
    {
      "cell_type": "markdown",
      "metadata": {
        "id": "BZ2wjqhjCZ3d"
      },
      "source": [
        "##part b"
      ]
    },
    {
      "cell_type": "markdown",
      "metadata": {
        "id": "u2aCzqHACN0R"
      },
      "source": [
        "Now lets calculate CI for cost and profit"
      ]
    },
    {
      "cell_type": "code",
      "metadata": {
        "id": "Ej32ZACYATlh"
      },
      "source": [
        "import statistics"
      ],
      "execution_count": null,
      "outputs": []
    },
    {
      "cell_type": "code",
      "metadata": {
        "colab": {
          "base_uri": "https://localhost:8080/"
        },
        "id": "V1m9UPZWAb06",
        "outputId": "1ac1e0e7-cf6e-4104-9dd4-a2c96895ea1d"
      },
      "source": [
        "mean_mc = np.mean(mean_cost)\n",
        "print('mean of 90% CI for mean_monthly_cost',mean_mc)"
      ],
      "execution_count": null,
      "outputs": [
        {
          "output_type": "stream",
          "text": [
            "mean of 90% CI for mean_monthly_cost 235.26200000000003\n"
          ],
          "name": "stdout"
        }
      ]
    },
    {
      "cell_type": "code",
      "metadata": {
        "colab": {
          "base_uri": "https://localhost:8080/"
        },
        "id": "g_aTQ1uvAaG6",
        "outputId": "22949a30-e1eb-44f0-a8d1-f8c4373953f1"
      },
      "source": [
        "#90% CI FOR MEAN COST\n",
        "S = (statistics.variance(mean_cost))**0.5 #standard deviation\n",
        "R = 10\n",
        "t = 1.833 # for alpha = 0.1 \n",
        "hw_cost  = t*S/np.sqrt(R)\n",
        "print('#90% CI half width for mean_monthly_cost',hw_cost)"
      ],
      "execution_count": null,
      "outputs": [
        {
          "output_type": "stream",
          "text": [
            "#90% CI half width for mean_monthly_cost 5.137374184576784\n"
          ],
          "name": "stdout"
        }
      ]
    },
    {
      "cell_type": "code",
      "metadata": {
        "colab": {
          "base_uri": "https://localhost:8080/"
        },
        "id": "zpZBOFYLAgBJ",
        "outputId": "50cb9da5-7da4-4031-b775-fb1a766bdcb7"
      },
      "source": [
        "mean_mp = np.mean(mean_profit)\n",
        "print('mean of 90% CI for monthly_profit',mean_mp)"
      ],
      "execution_count": null,
      "outputs": [
        {
          "output_type": "stream",
          "text": [
            "mean of 90% CI for monthly_profit 12.692999999999994\n"
          ],
          "name": "stdout"
        }
      ]
    },
    {
      "cell_type": "code",
      "metadata": {
        "colab": {
          "base_uri": "https://localhost:8080/"
        },
        "id": "wyvljamzAd3x",
        "outputId": "4358f43c-c0fc-4211-f306-fc837a6026b0"
      },
      "source": [
        "#90% CI FOR MEAN profit\n",
        "S = (statistics.variance(mean_profit))**0.5\n",
        "R = 10\n",
        "t = 1.833 #alpha = 0.1, \n",
        "hw_profit  = t*S/np.sqrt(R)\n",
        "print('#90% CI half width for monthly_profit',hw_profit)"
      ],
      "execution_count": null,
      "outputs": [
        {
          "output_type": "stream",
          "text": [
            "#90% CI half width for monthly_profit 4.347198704062307\n"
          ],
          "name": "stdout"
        }
      ]
    },
    {
      "cell_type": "markdown",
      "metadata": {
        "id": "73w2mIC-D2TN"
      },
      "source": [
        "lets calculate no. of replication for half width of monthly cost to be under 5."
      ]
    },
    {
      "cell_type": "code",
      "metadata": {
        "colab": {
          "base_uri": "https://localhost:8080/"
        },
        "id": "xUUeWR3hAjKY",
        "outputId": "f2a3c6e0-6297-44f8-a23d-ffa4bf3ea7f6"
      },
      "source": [
        "#for hw = 5 of monthly cost\n",
        "R = 10\n",
        "R_req = R*((hw_cost)**2)/25\n",
        "print('#for hw = 5 of monthly cost requred R',np.ceil(R_req))"
      ],
      "execution_count": null,
      "outputs": [
        {
          "output_type": "stream",
          "text": [
            "#for hw = 5 of monthly cost requred R 11.0\n"
          ],
          "name": "stdout"
        }
      ]
    },
    {
      "cell_type": "markdown",
      "metadata": {
        "id": "yakq6u6dETg9"
      },
      "source": [
        "Now we run simulation again with required R."
      ]
    },
    {
      "cell_type": "code",
      "metadata": {
        "id": "8tft5p6YAl2Z"
      },
      "source": [
        "new_mp, new_mc,new_sl_list ,data = simulation(int(R_req))\n"
      ],
      "execution_count": null,
      "outputs": []
    },
    {
      "cell_type": "code",
      "metadata": {
        "colab": {
          "base_uri": "https://localhost:8080/"
        },
        "id": "ShtdjgEJAplh",
        "outputId": "db92a7b8-ac91-425d-b8ed-9481a5d47084"
      },
      "source": [
        "mean_new_mc = np.mean(new_mc)\n",
        "print(mean_new_mc)"
      ],
      "execution_count": null,
      "outputs": [
        {
          "output_type": "stream",
          "text": [
            "228.59900000000002\n"
          ],
          "name": "stdout"
        }
      ]
    },
    {
      "cell_type": "code",
      "metadata": {
        "colab": {
          "base_uri": "https://localhost:8080/"
        },
        "id": "V0FpdRkCAr-Y",
        "outputId": "e0181965-6673-46c2-ae40-07d37d2fcc57"
      },
      "source": [
        "#90% CI FOR  new MEAN profit\n",
        "S = (statistics.variance(new_mc))**0.5\n",
        "R = R_req\n",
        "t = 1.79 #alpha = 0.1, \n",
        "hw_new_cost  = t*S/np.sqrt(R)\n",
        "print('NEW HALF WIDTH FOR 90% CI OF MONTHLY COST',hw_new_cost)"
      ],
      "execution_count": null,
      "outputs": [
        {
          "output_type": "stream",
          "text": [
            "NEW HALF WIDTH FOR 90% CI OF MONTHLY COST 3.7148418401497736\n"
          ],
          "name": "stdout"
        }
      ]
    },
    {
      "cell_type": "markdown",
      "metadata": {
        "id": "D7Dx-syiEjil"
      },
      "source": [
        "Now half width for 90% CI of monthly cost is around 2.66 which is less than 5 as required."
      ]
    },
    {
      "cell_type": "markdown",
      "metadata": {
        "id": "BmbtDvAiFSNV"
      },
      "source": [
        "simulation optimization part is done in 2nd file."
      ]
    },
    {
      "cell_type": "code",
      "metadata": {
        "id": "m8KxYpVpFX02"
      },
      "source": [
        ""
      ],
      "execution_count": null,
      "outputs": []
    }
  ]
}